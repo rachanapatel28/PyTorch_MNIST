{
 "cells": [
  {
   "cell_type": "markdown",
   "metadata": {},
   "source": [
    "### Imports"
   ]
  },
  {
   "cell_type": "code",
   "execution_count": 25,
   "metadata": {},
   "outputs": [],
   "source": [
    "import torch\n",
    "import torch.nn as nn\n",
    "import torch.nn.functional as F\n",
    "import torch.optim as optim\n",
    "from torchvision import datasets, transforms\n",
    "from torch.optim.lr_scheduler import StepLR"
   ]
  },
  {
   "cell_type": "markdown",
   "metadata": {},
   "source": [
    "### Model"
   ]
  },
  {
   "cell_type": "code",
   "execution_count": 3,
   "metadata": {},
   "outputs": [],
   "source": [
    "class Net(nn.Module):\n",
    "    def __init__(self):\n",
    "        super(Net, self).__init__()\n",
    "        self.conv1 = nn.Conv2d(1, 32, 3, 1)\n",
    "        self.conv2 = nn.Conv2d(32, 64, 3, 1)\n",
    "        self.dropout1 = nn.Dropout(0.25)\n",
    "        self.dropout2 = nn.Dropout(0.5)\n",
    "        self.fc1 = nn.Linear(9216, 128)\n",
    "        self.fc2 = nn.Linear(128, 10)\n",
    "\n",
    "    def forward(self, x):\n",
    "        x = self.conv1(x)\n",
    "        x = F.relu(x)\n",
    "        x = self.conv2(x)\n",
    "        x = F.relu(x)\n",
    "        x = F.max_pool2d(x, 2)\n",
    "        x = self.dropout1(x)\n",
    "        x = torch.flatten(x, 1)\n",
    "        x = self.fc1(x)\n",
    "        x = F.relu(x)\n",
    "        x = self.dropout2(x)\n",
    "        x = self.fc2(x)\n",
    "        output = F.log_softmax(x, dim=1)\n",
    "        return output"
   ]
  },
  {
   "cell_type": "markdown",
   "metadata": {},
   "source": [
    "### Train "
   ]
  },
  {
   "cell_type": "code",
   "execution_count": 26,
   "metadata": {},
   "outputs": [],
   "source": [
    "\n",
    "def train(model, device, train_loader, optimizer, epoch,log_interval=1000):\n",
    "    model.train()\n",
    "    for batch_idx, (data, target) in enumerate(train_loader):\n",
    "        data, target = data.to(device), target.to(device)\n",
    "        optimizer.zero_grad()\n",
    "        output = model(data)\n",
    "        loss = F.nll_loss(output, target)\n",
    "        loss.backward()\n",
    "        optimizer.step()\n",
    "        if batch_idx%log_interval == 0:\n",
    "            print('Train Epoch: {} [{}/{} ({:.0f}%)]\\tLoss: {:.6f}'.format(\n",
    "                epoch, batch_idx * len(data), len(train_loader.dataset),\n",
    "                100. * batch_idx / len(train_loader), loss.item()))"
   ]
  },
  {
   "cell_type": "markdown",
   "metadata": {},
   "source": [
    "### Test"
   ]
  },
  {
   "cell_type": "code",
   "execution_count": 16,
   "metadata": {},
   "outputs": [],
   "source": [
    "def test(model, device, test_loader):\n",
    "    model.eval()\n",
    "    test_loss = 0\n",
    "    correct = 0\n",
    "    with torch.no_grad():\n",
    "        for data, target in test_loader:\n",
    "            data, target = data.to(device), target.to(device)\n",
    "            output = model(data)\n",
    "            test_loss += F.nll_loss(output, target, reduction='sum').item()  # sum up batch loss\n",
    "            pred = output.argmax(dim=1, keepdim=True)  # get the index of the max log-probability\n",
    "            correct += pred.eq(target.view_as(pred)).sum().item()\n",
    "\n",
    "    test_loss /= len(test_loader.dataset)\n",
    "\n",
    "    print('\\nTest set: Average loss: {:.4f}, Accuracy: {}/{} ({:.0f}%)\\n'.format(\n",
    "        test_loss, correct, len(test_loader.dataset),\n",
    "        100. * correct / len(test_loader.dataset)))"
   ]
  },
  {
   "cell_type": "code",
   "execution_count": 27,
   "metadata": {},
   "outputs": [
    {
     "data": {
      "text/plain": [
       "<torch._C.Generator at 0x121c3bbf0>"
      ]
     },
     "execution_count": 27,
     "metadata": {},
     "output_type": "execute_result"
    }
   ],
   "source": [
    "## Torch Seed \n",
    "torch.manual_seed(42)"
   ]
  },
  {
   "cell_type": "code",
   "execution_count": 18,
   "metadata": {},
   "outputs": [
    {
     "data": {
      "text/plain": [
       "device(type='mps')"
      ]
     },
     "execution_count": 18,
     "metadata": {},
     "output_type": "execute_result"
    }
   ],
   "source": [
    "## Select Device\n",
    "use_mps = torch.backends.mps.is_available()\n",
    "if use_mps:\n",
    "    device = torch.device(\"mps\")\n",
    "else:\n",
    "    device = torch.device(\"cpu\")\n",
    "device"
   ]
  },
  {
   "cell_type": "markdown",
   "metadata": {},
   "source": [
    "### Load and Transform Train and Test Data"
   ]
  },
  {
   "cell_type": "code",
   "execution_count": 23,
   "metadata": {},
   "outputs": [],
   "source": [
    "transform=transforms.Compose([\n",
    "    transforms.ToTensor(),\n",
    "    transforms.Normalize((0.1307,), (0.3081,))\n",
    "    ])\n",
    "train_dataset = datasets.MNIST('../data', train=True, download=True,\n",
    "                    transform=transform)\n",
    "test_dataset = datasets.MNIST('../data', train=False,\n",
    "                    transform=transform)\n",
    "train_loader = torch.utils.data.DataLoader(train_dataset,batch_size=16)\n",
    "test_loader = torch.utils.data.DataLoader(test_dataset, batch_size=16)"
   ]
  },
  {
   "cell_type": "markdown",
   "metadata": {},
   "source": [
    "### Train Model"
   ]
  },
  {
   "cell_type": "code",
   "execution_count": 24,
   "metadata": {},
   "outputs": [
    {
     "name": "stdout",
     "output_type": "stream",
     "text": [
      "Train Epoch: 1 [0/60000 (0%)]\tLoss: 2.371372\n",
      "Train Epoch: 1 [16000/60000 (27%)]\tLoss: 1.997713\n",
      "Train Epoch: 1 [32000/60000 (53%)]\tLoss: 1.221088\n",
      "Train Epoch: 1 [48000/60000 (80%)]\tLoss: 1.002000\n",
      "\n",
      "Test set: Average loss: 0.6829, Accuracy: 8505/10000 (85%)\n",
      "\n",
      "Train Epoch: 2 [0/60000 (0%)]\tLoss: 0.603178\n",
      "Train Epoch: 2 [16000/60000 (27%)]\tLoss: 0.979665\n",
      "Train Epoch: 2 [32000/60000 (53%)]\tLoss: 0.444657\n",
      "Train Epoch: 2 [48000/60000 (80%)]\tLoss: 0.691966\n",
      "\n",
      "Test set: Average loss: 0.4595, Accuracy: 8803/10000 (88%)\n",
      "\n",
      "Train Epoch: 3 [0/60000 (0%)]\tLoss: 0.491743\n",
      "Train Epoch: 3 [16000/60000 (27%)]\tLoss: 0.600079\n",
      "Train Epoch: 3 [32000/60000 (53%)]\tLoss: 0.382034\n",
      "Train Epoch: 3 [48000/60000 (80%)]\tLoss: 0.458343\n",
      "\n",
      "Test set: Average loss: 0.4020, Accuracy: 8898/10000 (89%)\n",
      "\n",
      "Train Epoch: 4 [0/60000 (0%)]\tLoss: 0.364194\n",
      "Train Epoch: 4 [16000/60000 (27%)]\tLoss: 0.522572\n",
      "Train Epoch: 4 [32000/60000 (53%)]\tLoss: 0.347091\n",
      "Train Epoch: 4 [48000/60000 (80%)]\tLoss: 0.623886\n",
      "\n",
      "Test set: Average loss: 0.3755, Accuracy: 8980/10000 (90%)\n",
      "\n",
      "Train Epoch: 5 [0/60000 (0%)]\tLoss: 0.164542\n",
      "Train Epoch: 5 [16000/60000 (27%)]\tLoss: 0.824583\n",
      "Train Epoch: 5 [32000/60000 (53%)]\tLoss: 0.271518\n",
      "Train Epoch: 5 [48000/60000 (80%)]\tLoss: 0.569657\n",
      "\n",
      "Test set: Average loss: 0.3615, Accuracy: 9009/10000 (90%)\n",
      "\n",
      "Train Epoch: 6 [0/60000 (0%)]\tLoss: 0.221522\n",
      "Train Epoch: 6 [16000/60000 (27%)]\tLoss: 0.573146\n",
      "Train Epoch: 6 [32000/60000 (53%)]\tLoss: 0.170724\n",
      "Train Epoch: 6 [48000/60000 (80%)]\tLoss: 0.549620\n",
      "\n",
      "Test set: Average loss: 0.3529, Accuracy: 9025/10000 (90%)\n",
      "\n",
      "Train Epoch: 7 [0/60000 (0%)]\tLoss: 0.245583\n",
      "Train Epoch: 7 [16000/60000 (27%)]\tLoss: 0.505716\n",
      "Train Epoch: 7 [32000/60000 (53%)]\tLoss: 0.190235\n",
      "Train Epoch: 7 [48000/60000 (80%)]\tLoss: 0.495655\n",
      "\n",
      "Test set: Average loss: 0.3470, Accuracy: 9032/10000 (90%)\n",
      "\n",
      "Train Epoch: 8 [0/60000 (0%)]\tLoss: 0.185361\n",
      "Train Epoch: 8 [16000/60000 (27%)]\tLoss: 0.539762\n",
      "Train Epoch: 8 [32000/60000 (53%)]\tLoss: 0.108703\n",
      "Train Epoch: 8 [48000/60000 (80%)]\tLoss: 0.610576\n",
      "\n",
      "Test set: Average loss: 0.3429, Accuracy: 9038/10000 (90%)\n",
      "\n",
      "Train Epoch: 9 [0/60000 (0%)]\tLoss: 0.179498\n",
      "Train Epoch: 9 [16000/60000 (27%)]\tLoss: 0.501158\n",
      "Train Epoch: 9 [32000/60000 (53%)]\tLoss: 0.376379\n",
      "Train Epoch: 9 [48000/60000 (80%)]\tLoss: 0.418392\n",
      "\n",
      "Test set: Average loss: 0.3405, Accuracy: 9045/10000 (90%)\n",
      "\n"
     ]
    }
   ],
   "source": [
    "model = Net().to(device)\n",
    "optimizer = optim.Adadelta(model.parameters(), lr=0.001)\n",
    "\n",
    "scheduler = StepLR(optimizer, step_size=1, gamma=0.7)\n",
    "for epoch in range(1,  10):\n",
    "    train(model=model, device=device, train_loader=train_loader, optimizer=optimizer, epoch=epoch)\n",
    "    test(model=model, device=device, test_loader=test_loader)\n",
    "    scheduler.step()\n",
    "## Save Model\n",
    "torch.save(model.state_dict(), \"mnist_cnn.pt\")"
   ]
  },
  {
   "cell_type": "markdown",
   "metadata": {},
   "source": [
    "### Load Model"
   ]
  },
  {
   "cell_type": "code",
   "execution_count": 32,
   "metadata": {},
   "outputs": [
    {
     "data": {
      "text/plain": [
       "Net(\n",
       "  (conv1): Conv2d(1, 32, kernel_size=(3, 3), stride=(1, 1))\n",
       "  (conv2): Conv2d(32, 64, kernel_size=(3, 3), stride=(1, 1))\n",
       "  (dropout1): Dropout(p=0.25, inplace=False)\n",
       "  (dropout2): Dropout(p=0.5, inplace=False)\n",
       "  (fc1): Linear(in_features=9216, out_features=128, bias=True)\n",
       "  (fc2): Linear(in_features=128, out_features=10, bias=True)\n",
       ")"
      ]
     },
     "execution_count": 32,
     "metadata": {},
     "output_type": "execute_result"
    }
   ],
   "source": [
    "model=Net()\n",
    "model.load_state_dict(torch.load('mnist_cnn.pt'))\n",
    "model"
   ]
  },
  {
   "cell_type": "markdown",
   "metadata": {},
   "source": [
    "### Evaluate Model"
   ]
  },
  {
   "cell_type": "code",
   "execution_count": 81,
   "metadata": {},
   "outputs": [],
   "source": [
    "from torchmetrics.classification import Recall, Precision, Accuracy,F1Score"
   ]
  },
  {
   "cell_type": "code",
   "execution_count": 94,
   "metadata": {},
   "outputs": [],
   "source": [
    "accuracy=Accuracy('multiclass',num_classes=10)\n",
    "f1score=F1Score('multiclass',num_classes=10)"
   ]
  },
  {
   "cell_type": "code",
   "execution_count": 96,
   "metadata": {},
   "outputs": [],
   "source": [
    "preds=torch.tensor([])\n",
    "targets=torch.tensor([])\n",
    "images=torch.tensor([])"
   ]
  },
  {
   "cell_type": "code",
   "execution_count": 97,
   "metadata": {},
   "outputs": [],
   "source": [
    "for x,y in test_loader:\n",
    "    y_hat=model(x)\n",
    "    images=torch.concatenate([images,x])\n",
    "    preds=torch.concatenate([preds,torch.argmax(y_hat,dim=1)])\n",
    "    targets=torch.concatenate([targets,y])"
   ]
  },
  {
   "cell_type": "code",
   "execution_count": 98,
   "metadata": {},
   "outputs": [
    {
     "name": "stdout",
     "output_type": "stream",
     "text": [
      "Accuracy: 0.8598999977111816\n",
      "F1Score: 0.8598999977111816\n"
     ]
    }
   ],
   "source": [
    "accuracy_score=accuracy(preds,targets)\n",
    "f1score_score=f1score(preds,targets)\n",
    "print(f'Accuracy: {accuracy_score}')\n",
    "print(f'F1Score: {f1score_score}')"
   ]
  },
  {
   "cell_type": "markdown",
   "metadata": {},
   "source": [
    "### Visualize"
   ]
  },
  {
   "cell_type": "code",
   "execution_count": 109,
   "metadata": {},
   "outputs": [],
   "source": [
    "import numpy as np\n",
    "from matplotlib import pyplot as plt"
   ]
  },
  {
   "cell_type": "code",
   "execution_count": 119,
   "metadata": {},
   "outputs": [
    {
     "data": {
      "image/png": "[encoded data removed]",
      "text/plain": [
       "<Figure size 1500x800 with 8 Axes>"
      ]
     },
     "metadata": {},
     "output_type": "display_data"
    }
   ],
   "source": [
    "indices=np.random.randint(0,images.shape[0],8).reshape(2,4)\n",
    "f,ax=plt.subplots(2,4,figsize=(15,8))\n",
    "for i in range(2):\n",
    "    for j in range(4):\n",
    "        idx=indices[i,j]\n",
    "        y_hat=model(images[idx].reshape(-1,1,28,28))\n",
    "        pred=torch.argmax(y_hat,dim=1).item()\n",
    "        truth=int(targets[idx])\n",
    "        ax[i][j].imshow(images[idx][0].numpy(),cmap='gray')\n",
    "        ax[i][j].set_title(f'Truth:{truth}|Pred:{pred}')\n",
    "plt.show()"
   ]
  },
  {
   "cell_type": "code",
   "execution_count": null,
   "metadata": {},
   "outputs": [],
   "source": []
  }
 ],
 "metadata": {
  "kernelspec": {
   "display_name": "base",
   "language": "python",
   "name": "python3"
  },
  "language_info": {
   "codemirror_mode": {
    "name": "ipython",
    "version": 3
   },
   "file_extension": ".py",
   "mimetype": "text/x-python",
   "name": "python",
   "nbconvert_exporter": "python",
   "pygments_lexer": "ipython3",
   "version": "3.9.19"
  }
 },
 "nbformat": 4,
 "nbformat_minor": 2
}
